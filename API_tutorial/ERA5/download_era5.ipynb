{
 "cells": [
  {
   "cell_type": "markdown",
   "id": "f657223c-a0b6-41a7-b8f8-c18c1083617b",
   "metadata": {},
   "source": [
    "# Downloading ERA5 weather reanalysis data\n",
    "Please follow the instructions in the following document. You will need to create an account and copy your API key information.\n",
    ">https://cds.climate.copernicus.eu/api-how-to"
   ]
  },
  {
   "cell_type": "code",
   "execution_count": 1,
   "id": "93ca907e-8c05-4c07-a26f-84e629dc9f44",
   "metadata": {},
   "outputs": [],
   "source": [
    "\n",
    "def download_era5(site,year):\n",
    "    import cdsapi\n",
    "\n",
    "    filename = 'download_' + site + '_'+ year[0] + '_'+ year[len(year)-1] + '.nc'\n",
    "    sub_df = ECN_site_info.loc[ECN_site_info['sitecode'] == site]\n",
    "    c = cdsapi.Client()\n",
    "    c.retrieve(\n",
    "        'reanalysis-era5-single-levels',\n",
    "        {\n",
    "            'product_type': 'reanalysis',\n",
    "            'year': year,\n",
    "#             [ '1990',\n",
    "#                 '1991', '1992', '1993',\n",
    "#                 '1994', '1995', '1996',\n",
    "#                 '1997', '1998', '1999',\n",
    "#                 '2000', '2001', '2002',\n",
    "#                 '2003', '2004', '2005',\n",
    "#                 '2006', '2007', '2008',\n",
    "#                 '2009', '2010', '2011',\n",
    "#                 '2012', '2013', '2014',\n",
    "#                 '2015', '2016', '2017',\n",
    "#                  '2018', '2019', ],\n",
    "            'time': [\n",
    "            '00:00', '01:00', '02:00',\n",
    "            '03:00', '04:00', '05:00',\n",
    "            '06:00', '07:00', '08:00',\n",
    "            '09:00', '10:00', '11:00',\n",
    "            '12:00', '13:00', '14:00',\n",
    "            '15:00', '16:00', '17:00',\n",
    "            '18:00', '19:00', '20:00',\n",
    "            '21:00', '22:00', '23:00',\n",
    "        ],\n",
    "            'format': 'netcdf',\n",
    "            'area': [\n",
    "                sub_df['lat'].values[0], \n",
    "                sub_df['long'].values[0], \n",
    "                sub_df['lat'].values[0] - 1e-5, \n",
    "                sub_df['long'].values[0] + 1e-5,\n",
    "            ],\n",
    "            'variable': [\n",
    "                'convective_precipitation', 'large_scale_precipitation','total_precipitation','large_scale_precipitation_fraction',\n",
    "            ],\n",
    "        },\n",
    "        filename)\n",
    "\n",
    "#     dataset = Dataset(filename)\n",
    "#     print(dataset)\n",
    "    \n",
    "    return "
   ]
  },
  {
   "cell_type": "code",
   "execution_count": null,
   "id": "9ef73a19-2d9a-4752-977b-75e253a02d19",
   "metadata": {},
   "outputs": [],
   "source": [
    "import pandas as pd\n",
    "ECN_site_info = pd.DataFrame(data= {\"sitecode\":['T{:02d}'.format(i) for i in range(1, 14)],\n",
    "    \"name\": [\"Drayton\",\"Glensaugh\",\"Hillsborough\",\"Moor House - Upper Teesdale\",\n",
    "           \"North Wyke\",\"Rothamsted\",\"Sourhope\",\"Wytham\",\n",
    "           \"Alice Holt\",\"Porton Down\",\"Y Wyddfa - Snowdon\",\"Cairngorms\",\"Eskelmuir\"],\n",
    "\"lat\": [52.193875,56.9092667,54.4534,54.6950416666,\n",
    "          50.781933335,51.803425,55.4898527778,51.781349999999996,\n",
    "          51.15457222,51.127175,53.07455,57.11634444,55.2678], \n",
    "\"long\": [-1.764430555,-2.55337222,-6.0781277778,-2.38785,\n",
    "           -3.91780555553,-0.372683333,-2.2120333,-1.3360583333333333,\n",
    "           -0.86321666,-1.63985,-4.03351111,-3.82971667,-3.1757]})\n",
    "ECN_site_info"
   ]
  },
  {
   "cell_type": "code",
   "execution_count": null,
   "id": "c5a8e771-eb68-4928-9697-c406208496d1",
   "metadata": {},
   "outputs": [],
   "source": []
  },
  {
   "cell_type": "code",
   "execution_count": 2,
   "id": "9b2e021e-8a33-4dbf-836c-9de9f698eec1",
   "metadata": {},
   "outputs": [],
   "source": [
    "## download data at sites"
   ]
  },
  {
   "cell_type": "code",
   "execution_count": null,
   "id": "d77e6059-8504-4c23-a36d-a2698c5f86b2",
   "metadata": {},
   "outputs": [],
   "source": [
    "for i in range(2007, 2012):\n",
    "    download_era5('T13',['{}'.format(i) for j in range(i, i+1)])\n"
   ]
  },
  {
   "cell_type": "code",
   "execution_count": null,
   "id": "71766fb1-8941-479c-b825-3eb9cf69ef6d",
   "metadata": {},
   "outputs": [],
   "source": [
    "## download data over a area"
   ]
  }
 ],
 "metadata": {
  "kernelspec": {
   "display_name": "Python 3 (ipykernel)",
   "language": "python",
   "name": "python3"
  },
  "language_info": {
   "codemirror_mode": {
    "name": "ipython",
    "version": 3
   },
   "file_extension": ".py",
   "mimetype": "text/x-python",
   "name": "python",
   "nbconvert_exporter": "python",
   "pygments_lexer": "ipython3",
   "version": "3.11.6"
  }
 },
 "nbformat": 4,
 "nbformat_minor": 5
}
