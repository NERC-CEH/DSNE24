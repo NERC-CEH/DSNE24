{
 "cells": [
  {
   "cell_type": "markdown",
   "id": "76ec6637-4096-4d0b-b64c-a095dfa453c4",
   "metadata": {},
   "source": [
    "# Example to use Land Cover Map WMS tile service\n",
    "\n",
    ">[Land Cover Map 2021 10m web map service](https://catalogue.ceh.ac.uk/documents/2ad19a50-b940-469e-a40d-17818b77020c)\n",
    "\n",
    "Ipyleaflet python package documentation:\n",
    ">https://ipyleaflet.readthedocs.io/en/latest/layers/wms_layer.html\n",
    "\n",
    "leaflet R package exammple:\n",
    ">https://rstudio.github.io/leaflet/articles/basemaps.html#wms-tiles\n"
   ]
  },
  {
   "cell_type": "code",
   "execution_count": null,
   "id": "0d7c2490-8c8c-4ff1-b3f5-51b1a2146f08",
   "metadata": {},
   "outputs": [],
   "source": []
  },
  {
   "cell_type": "code",
   "execution_count": 17,
   "id": "093588dc",
   "metadata": {},
   "outputs": [],
   "source": [
    "import ipyleaflet"
   ]
  },
  {
   "cell_type": "code",
   "execution_count": 18,
   "id": "24d0980a-6d58-4391-8e2e-03669be543b6",
   "metadata": {},
   "outputs": [
    {
     "data": {
      "application/vnd.jupyter.widget-view+json": {
       "model_id": "ff6d50dcbc5b4fcbb2da59b7e9ee4a2d",
       "version_major": 2,
       "version_minor": 0
      },
      "text/plain": [
       "Map(center=[38.491, -95.712], controls=(ZoomControl(options=['position', 'zoom_in_text', 'zoom_in_title', 'zoo…"
      ]
     },
     "execution_count": 18,
     "metadata": {},
     "output_type": "execute_result"
    }
   ],
   "source": [
    "# NextRad weather radar example\n",
    "\n",
    "from ipyleaflet import Map, WMSLayer, basemaps\n",
    "\n",
    "wms = WMSLayer(\n",
    "    url='http://mesonet.agron.iastate.edu/cgi-bin/wms/nexrad/n0r.cgi',\n",
    "    layers='nexrad-n0r-900913',\n",
    "    format='image/png',\n",
    "    transparent=True,\n",
    "    attribution='Weather data © 2012 IEM Nexrad'\n",
    ")\n",
    "\n",
    "m = Map(basemap=basemaps.CartoDB.Positron, center=(38.491, -95.712), zoom=4)\n",
    "\n",
    "m.add(wms)\n",
    "\n",
    "m"
   ]
  },
  {
   "cell_type": "code",
   "execution_count": 19,
   "id": "fd61cf21-df1d-43c4-b1d6-140f90be185c",
   "metadata": {},
   "outputs": [
    {
     "data": {
      "application/vnd.jupyter.widget-view+json": {
       "model_id": "bb3950b2aebe4f11b6677ca947406d06",
       "version_major": 2,
       "version_minor": 0
      },
      "text/plain": [
       "Map(center=[55, 0], controls=(ZoomControl(options=['position', 'zoom_in_text', 'zoom_in_title', 'zoom_out_text…"
      ]
     },
     "execution_count": 19,
     "metadata": {},
     "output_type": "execute_result"
    }
   ],
   "source": [
    "# LCM example\n",
    "from ipyleaflet import Map, WMSLayer, basemaps, WidgetControl\n",
    "import ipywidgets as widgets\n",
    "\n",
    "wms = WMSLayer(\n",
    "    url='https://catalogue.ceh.ac.uk/maps/2ad19a50-b940-469e-a40d-17818b77020c?request=getCapabilities&service=WMS&cache=false&',\n",
    "    layers='LC.10m.GB',\n",
    "    format='image/png',\n",
    "    transparent=True,\n",
    "    attribution='Land Cover Map 2021 © 2021 UKCEH'\n",
    ")\n",
    "\n",
    "m = Map(basemap=basemaps.CartoDB.Positron, center=(55,0), zoom=5)\n",
    "\n",
    "m.add(wms)\n",
    "\n",
    "logo = widgets.HTML(\n",
    "    value='<img src=\"https://catalogue.ceh.ac.uk/maps/2ad19a50-b940-469e-a40d-17818b77020c?language=eng&version=1.3.0&service=WMS&request=GetLegendGraphic&sld_version=1.1.0&layer=LC.10m.GB&format=image/png&STYLE=default\" width=\"200\" align=\"middle\" hspace=\"5\" vspace=\"5\">'\n",
    ")\n",
    "\n",
    "widget_control = WidgetControl(widget=logo, position='topright')\n",
    "m.add_control(widget_control)\n",
    "m"
   ]
  },
  {
   "cell_type": "markdown",
   "id": "365510e4-876b-43b2-be5f-7accaf933a0b",
   "metadata": {},
   "source": [
    "# look at the legned here:\n",
    ">https://catalogue.ceh.ac.uk/maps/2ad19a50-b940-469e-a40d-17818b77020c?language=eng&version=1.3.0&service=WMS&request=GetLegendGraphic&sld_version=1.1.0&layer=LC.10m.GB&format=image/png&STYLE=default"
   ]
  },
  {
   "cell_type": "code",
   "execution_count": null,
   "id": "65ce024d-1cb1-48b8-8c9f-61420c9ad5a0",
   "metadata": {},
   "outputs": [],
   "source": []
  },
  {
   "cell_type": "code",
   "execution_count": 18,
   "id": "9515efca",
   "metadata": {},
   "outputs": [
    {
     "data": {
      "application/vnd.jupyter.widget-view+json": {
       "model_id": "ff6d50dcbc5b4fcbb2da59b7e9ee4a2d",
       "version_major": 2,
       "version_minor": 0
      },
      "text/plain": [
       "Map(center=[38.491, -95.712], controls=(ZoomControl(options=['position', 'zoom_in_text', 'zoom_in_title', 'zoo…"
      ]
     },
     "execution_count": 18,
     "metadata": {},
     "output_type": "execute_result"
    }
   ],
   "source": [
    "# NextRad weather radar example\n",
    "\n",
    "from ipyleaflet import Map, WMSLayer, basemaps\n",
    "\n",
    "wms = WMSLayer(\n",
    "    url='http://mesonet.agron.iastate.edu/cgi-bin/wms/nexrad/n0r.cgi',\n",
    "    layers='nexrad-n0r-900913',\n",
    "    format='image/png',\n",
    "    transparent=True,\n",
    "    attribution='Weather data © 2012 IEM Nexrad'\n",
    ")\n",
    "\n",
    "m = Map(basemap=basemaps.CartoDB.Positron, center=(38.491, -95.712), zoom=4)\n",
    "\n",
    "m.add(wms)\n",
    "\n",
    "m"
   ]
  },
  {
   "cell_type": "code",
   "execution_count": 19,
   "id": "899785e8",
   "metadata": {},
   "outputs": [
    {
     "data": {
      "application/vnd.jupyter.widget-view+json": {
       "model_id": "bb3950b2aebe4f11b6677ca947406d06",
       "version_major": 2,
       "version_minor": 0
      },
      "text/plain": [
       "Map(center=[55, 0], controls=(ZoomControl(options=['position', 'zoom_in_text', 'zoom_in_title', 'zoom_out_text…"
      ]
     },
     "execution_count": 19,
     "metadata": {},
     "output_type": "execute_result"
    }
   ],
   "source": [
    "# LCM example\n",
    "from ipyleaflet import Map, WMSLayer, basemaps, WidgetControl\n",
    "import ipywidgets as widgets\n",
    "\n",
    "wms = WMSLayer(\n",
    "    url='https://catalogue.ceh.ac.uk/maps/2ad19a50-b940-469e-a40d-17818b77020c?request=getCapabilities&service=WMS&cache=false&',\n",
    "    layers='LC.10m.GB',\n",
    "    format='image/png',\n",
    "    transparent=True,\n",
    "    attribution='Land Cover Map 2021 © 2021 UKCEH'\n",
    ")\n",
    "\n",
    "m = Map(basemap=basemaps.CartoDB.Positron, center=(55,0), zoom=5)\n",
    "\n",
    "m.add(wms)\n",
    "\n",
    "logo = widgets.HTML(\n",
    "    value='<img src=\"https://catalogue.ceh.ac.uk/maps/2ad19a50-b940-469e-a40d-17818b77020c?language=eng&version=1.3.0&service=WMS&request=GetLegendGraphic&sld_version=1.1.0&layer=LC.10m.GB&format=image/png&STYLE=default\" width=\"200\" align=\"middle\" hspace=\"5\" vspace=\"5\">'\n",
    ")\n",
    "\n",
    "widget_control = WidgetControl(widget=logo, position='topright')\n",
    "m.add_control(widget_control)\n",
    "m"
   ]
  },
  {
   "cell_type": "code",
   "execution_count": null,
   "id": "99dce35a",
   "metadata": {},
   "outputs": [],
   "source": []
  }
 ],
 "metadata": {
  "kernelspec": {
   "display_name": "Python 3 (ipykernel)",
   "language": "python",
   "name": "python3"
  },
  "language_info": {
   "codemirror_mode": {
    "name": "ipython",
    "version": 3
   },
   "file_extension": ".py",
   "mimetype": "text/x-python",
   "name": "python",
   "nbconvert_exporter": "python",
   "pygments_lexer": "ipython3",
   "version": "3.11.6"
  }
 },
 "nbformat": 4,
 "nbformat_minor": 5
}
