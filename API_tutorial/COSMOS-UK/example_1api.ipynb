{
 "cells": [
  {
   "cell_type": "markdown",
   "metadata": {
    "tags": []
   },
   "source": [
    "# Step-by-step Guide: Constructing a model with Phydrus for COSMOS-UK Sites\n",
    "\n",
    "*Authors: Michael Tso (UKCEH)* \n",
    "\n",
    "*Contact: cosmosuk@ceh.ac.uk*\n",
    "\n",
    "| | | | |\n",
    "|:-------------------------:|:-------------------------:|:-------------------------:|:-------------------------:|\n",
    "|<img height=\"400\" alt=\"UKCEH logo\" src=\"https://brandroom.ceh.ac.uk/sites/default/files/images/theme/UKCEH-Logo_Long_Pos_RGB_720x170.png\">|  <img height=\"500\" alt=\"UKSCAPE logo\" src=\"https://uk-scape.ceh.ac.uk/sites/default/files/images/theme/UK_SCAPE_Logo_Positive_0.png\">|<img height=\"100\" alt=\"COSMOS-UK logo\" src=\"COSMOS-UKlogo.png\"> |\n",
    "\n",
    "*Based on Step-by-step Guide: Constructing a model with Phydrus by R.A. Collenteur & M. Vremec* \n",
    "\n",
    "The original notebook is part of a manuscript that is currently being prepared (spring 2020): \n",
    "\n",
    "*R.A. Collenteur, G. Brunetti, M. Vremec & J. Simunek (in preparation) Phydrus: a Python implementation of the Hydrus-1D model.*\n",
    "\n",
    "[EGU 2020 summary slides](https://presentations.copernicus.org/EGU2020/EGU2020-15377_presentation.pdf)\n",
    "---\n",
    "\n",
    "[Phydrus package](https://phydrus.readthedocs.io/en/latest/getting_started/index.html)\n",
    "---\n",
    "This Notebook presents the basics steps to create a Phydrus model simulating water flow through the vadose zone. In the presented example, the workflow is divided into several steps, to demonstrate the usage of Phydrus methods:\n",
    "1. Import the Phydrus package\n",
    "2. Create the basic model\n",
    "3. Add processes and materials\n",
    "4. Add soil profile\n",
    "5. Add Root Water Uptake\n",
    "6. Add atmospheric boundary condition\n",
    "7. Add observations nodes\n",
    "8. Simulate the model\n",
    "9. Post-process the results\n",
    "___\n",
    "### Installing hydrus\n",
    "The hydrus program that simulates water flow is a FORTRAN program. You will need to compile the source code. See https://github.com/phydrus/phydrus#2-compiling-the-source-code.\n",
    "\n",
    "In a jupyter notebook, run the following when you use phydrus for the first time (this first steps may need to be repeated whenever DataLabs is being updated):\n",
    "\n",
    "1. Open a Linux terminal, run `sudo apt update`\n",
    "2. In the terminal, run `sudo apt install gfortran`\n",
    "3. Download the hydrus source code and go to the `source_code` directory. Type `make` in the terminal. The resultant executable is `phydrus`\n",
    "4. Move the `phydrus` executable to a different folder if desired. Make sure the path to it is correctly specified in `exe = ...` in one of the cells below.\n",
    "\n",
    "\n",
    "If everything works well, you will see `INFO: Hydrus-1D Simulation Successful.` when you run `ml.simulate()`,\n",
    "___\n",
    "### Getting COSMOS-UK data\n",
    "This notebooks follows closely the methods in [Beale et al. (2021)](https://doi.org/10.1109/JSTARS.2021.3071380). PET is separated to PE and PT based on MODIS leaf area index (LAI), which was extracted on Google Earth Engine and is exported as a csv file. Other variables, including PE(T), rainfall, and COSMOS-UK are retrieved using the COSMOS-UK data application programming interface (API): https://cosmos-api.ceh.ac.uk/.\n",
    "\n",
    "To obtain the MODIS LAI, you can run [this script](https://gist.github.com/cmtso/1c4b4ad5357038d8d1d3affb5b23acbf) in Google Earth Engine code editor. Add the `.js` script to the script folder and the `.csv` file with COSMOS-UK site coordinates to the Assets folder.\n",
    "\n",
    "In this notebook, the data extraction was performed by a helper class called `CosmosData`. You can download it [here](https://gist.github.com/cmtso/8294bacd87fff556c4ef1de86cccf0ab) and put it in a folder called `sm_utils` that is in the same directory of this notebook.\n",
    "___\n",
    "\n",
    "### 1. Import the Pydrus package"
   ]
  },
  {
   "cell_type": "code",
   "execution_count": null,
   "metadata": {
    "tags": []
   },
   "outputs": [],
   "source": [
    "import os\n",
    "import warnings\n",
    "warnings.filterwarnings('ignore')\n",
    "#warnings.filterwarnings(action='once')\n",
    "\n",
    "import ipywidgets as widgets\n",
    "\n",
    "\n",
    "import numpy as np\n",
    "import pandas as pd\n",
    "\n",
    "import matplotlib.pyplot as plt\n",
    "import phydrus as ps\n",
    "\n",
    "from sm_utils import CosmosData # my tools\n",
    "\n",
    "os.getcwd()"
   ]
  },
  {
   "cell_type": "markdown",
   "metadata": {
    "tags": []
   },
   "source": [
    "### 2. Create the basic model & add time information\n",
    "In the code block below a `Model` instance is created. The path to the Hydrus-1D executable has to be set at this stage. Phydrus will check the executable, and raise an Error if it is not found. "
   ]
  },
  {
   "cell_type": "code",
   "execution_count": null,
   "metadata": {},
   "outputs": [],
   "source": [
    "#site = sitechoice.value\n",
    "site='CHIMN' ## problems: EUSTON, SPRNF\n",
    "CD1 = CosmosData(years=[2016,2017,2018,2019],site=site) # all object to grab all required input data\n"
   ]
  },
  {
   "cell_type": "code",
   "execution_count": null,
   "metadata": {},
   "outputs": [],
   "source": [
    "#Folder where the Hydrus files are to be stored\n",
    "ws = \"output\"\n",
    "exe = os.path.join(os.getcwd(), \"../../../hydrus\") # users: make sure to change this\n",
    "\n",
    "# Create model\n",
    "ml = ps.Model(exe_name=exe, ws_name=ws, name=\"model\",\n",
    "              time_unit=\"days\", length_unit=\"cm\")\n",
    "\n",
    "ml.add_time_info(tinit=0, tmax=len(CD1.driving_data),print_times=True,dtprint=1);"
   ]
  },
  {
   "cell_type": "markdown",
   "metadata": {},
   "source": [
    "### 3. Add processes and materials\n",
    "In this step a model for the water flow is selected and top and bottom boundary conditions, using the ml.add_waterflow method. After that, we can use the get_empty_material_df method to obtain an empty DataFrame to define our soil hydraulic parameters for the different soil materials. In this example, the model contains to soil materials. The hydraulic parameters here are identical to those used in [Beale et al. (2021)](https://doi.org/10.1109/JSTARS.2021.3071380)."
   ]
  },
  {
   "cell_type": "code",
   "execution_count": null,
   "metadata": {
    "tags": []
   },
   "outputs": [],
   "source": [
    "mat_cosmos = pd.DataFrame({'SITE_ID': ['CARDT','CGARW','CHIMN','ELMST','EUSTON','FINCH','HADLW','HYBRY','LODTN','RISEH','ROTHD','SPRNF','WRTTL'],\\\n",
    "                          'thr':[9.59,9.0,11.36,7.32,7.31,7.71,12.22,13.47,11.35,14.59,7.46,9.34,7.65],\\\n",
    "                          'ths':[48.36,90.0,54.56,32.5,45.21,36.98,57.47,69.09,44.09,72.3,33.9,40.33,35.38],\\\n",
    "                          'Alfa':[0.0492,0.1158,0.054,0.0591,0.0908,0.0784,0.0441,0.0406,0.0384,0.0468,0.0406,0.051,0.0489],\\\n",
    "                          'n':[1.2438,1.383,1.2326,1.2488,1.348,1.2984,1.2229,1.2321,1.2321,1.2247,1.2385,1.2387,1.2483],\\\n",
    "                          'Ks':[109.3,6540.5,101.4,76.4,115.5,92.05,105.3,117.6,71.5,107.3,107.3,76.4,76.4]\\\n",
    "                          }).set_index('SITE_ID')\\\n",
    "            .assign(l=lambda x: 0.5)\\\n",
    "            .assign(ths=lambda x: 0.01*x['ths'])\\\n",
    "            .assign(thr=lambda x: 0.01*x['thr'])\\\n",
    "\n",
    "mat_cosmos"
   ]
  },
  {
   "cell_type": "code",
   "execution_count": null,
   "metadata": {},
   "outputs": [],
   "source": [
    "\n",
    "ml.add_waterflow(model=0, top_bc=3, bot_bc=4) # top3 = Atmospheric Boundary Condition with Surface Run Off. bot4 = free drainage\n",
    "m = ml.get_empty_material_df(n=3)\n",
    "m.loc[0:3] = [mat_cosmos.loc[site].values.tolist(),#columns=[\"thr\", \"ths\", \"Alfa\", \"n\" \"Ks\", \"l\"]\n",
    "              mat_cosmos.loc[site].values.tolist(),\n",
    "              mat_cosmos.loc['WRTTL'].values.tolist()]\n",
    "# m.loc[0:2] = [[0.0, 0.3382, 0.0111, 1.4737, 13, 0.5],  #columns=[\"thr\", \"ths\", \"Alfa\", \"n\" \"Ks\", \"l\"]\n",
    "#               [0.0, 0.3579, 0.0145, 1.5234, 50, 0.5]]\n",
    "ml.add_material(m)\n",
    "m"
   ]
  },
  {
   "cell_type": "markdown",
   "metadata": {
    "tags": []
   },
   "source": [
    "### 4. Add Profile information\n",
    "We develop the linear function of potential root water uptake distribution  $S^*_{p}(z)$ vs depth, following Hoffman and van Genuchten. \n",
    "\n",
    "\n",
    "\\begin{equation}\n",
    "S^*_{p} = \\left \\{\n",
    "\\begin{aligned}\n",
    "&1 && \\text{for} && z>L-r_1 \\\\\n",
    "&\\frac{z-[L-(r_1 + r_2)]}{r_2} && \\text{for} && L-r_1 \\geq z \\geq L-(r_1 + r_2) \\\\\n",
    "&0 && \\text{for} && L-r_1 z < L-(r_1 + r_2) \n",
    "\\end{aligned} \\right.\n",
    "\\end{equation} "
   ]
  },
  {
   "cell_type": "code",
   "execution_count": null,
   "metadata": {},
   "outputs": [],
   "source": [
    "# Define loop for potential root water uptake distribution proposed by Hoffman and Van Genuchten\n",
    "def z_loop(z, r1 = 10, r2 = 20):\n",
    "    if z > -r1:\n",
    "        return 1\n",
    "    elif z < -(r1 + r2):\n",
    "        return 0\n",
    "    else:\n",
    "        return(z+(r1+r2))/r2\n",
    "\n",
    "bottom = [-30, -50, -100 ]  # Depth of the soil column -100, -300\n",
    "nodes = 150  # Dictretize into n nodes\n",
    "ihead = -500  # Determine initial pressure head\n",
    "\n",
    "profile = ps.create_profile(bot=bottom, dx=1, h=ihead, mat=[1,2,3])\n",
    "profile[\"Beta\"] = profile.apply(lambda row: z_loop(row[\"x\"]), axis=1)\n",
    "ml.add_profile(profile)"
   ]
  },
  {
   "cell_type": "code",
   "execution_count": null,
   "metadata": {},
   "outputs": [],
   "source": [
    "ml.materials[('water','l')] = 0.5\n",
    "ml.materials['water', 'mat'] = [0, 1, 2]\n",
    "ml.materials\n"
   ]
  },
  {
   "cell_type": "code",
   "execution_count": null,
   "metadata": {},
   "outputs": [],
   "source": [
    "ml.plots.profile(figsize=(3,6), color_by=\"mat\")"
   ]
  },
  {
   "cell_type": "code",
   "execution_count": null,
   "metadata": {},
   "outputs": [],
   "source": [
    "ml.plots.soil_properties(\"Water Content\")"
   ]
  },
  {
   "cell_type": "code",
   "execution_count": null,
   "metadata": {},
   "outputs": [],
   "source": [
    "ml.plots.profile_information(figsize=(4,6), times=[0,1,2,30,70])"
   ]
  },
  {
   "cell_type": "code",
   "execution_count": null,
   "metadata": {},
   "outputs": [],
   "source": [
    "profile['Beta'].plot()"
   ]
  },
  {
   "cell_type": "markdown",
   "metadata": {},
   "source": [
    "### 5. Add atmosphere boundary conditions\n",
    "Atmospheric boundary condition can be added easily by reading in a CSV file using Pandas `read_csv` method and adding it to the model. "
   ]
  },
  {
   "cell_type": "code",
   "execution_count": null,
   "metadata": {},
   "outputs": [],
   "source": [
    "# ET: https://github.com/phydrus/phydrus/issues/5\n",
    "atm = pd.read_csv(\"data/atmosphere_API.csv\", index_col=0)\n",
    "#atm = atm.reset_index().drop(columns='Date')\n",
    "ml.add_atmospheric_bc(atm, hcrits=0)"
   ]
  },
  {
   "cell_type": "markdown",
   "metadata": {},
   "source": [
    "### 6. Add root water uptake"
   ]
  },
  {
   "cell_type": "code",
   "execution_count": null,
   "metadata": {},
   "outputs": [],
   "source": [
    "ml.add_root_uptake(model=0, p2h=-1500, p2l=-1500, poptm=[-25, -25, -25])"
   ]
  },
  {
   "cell_type": "markdown",
   "metadata": {},
   "source": [
    "### 7. Add observation nodes"
   ]
  },
  {
   "cell_type": "code",
   "execution_count": null,
   "metadata": {},
   "outputs": [],
   "source": [
    "#Number of the node -- > write script to get node closest to desired depth\n",
    "ml.add_obs_nodes([-5,-30])"
   ]
  },
  {
   "cell_type": "markdown",
   "metadata": {},
   "source": [
    "### 8. Write hydrus input files & run hydrus \n",
    "Before we can simulate, we write all model information to files. "
   ]
  },
  {
   "cell_type": "code",
   "execution_count": null,
   "metadata": {},
   "outputs": [],
   "source": [
    "atm"
   ]
  },
  {
   "cell_type": "code",
   "execution_count": null,
   "metadata": {},
   "outputs": [],
   "source": [
    "%%time\n",
    "\n",
    "ml.write_input()\n",
    "ml.simulate()"
   ]
  },
  {
   "cell_type": "markdown",
   "metadata": {
    "tags": []
   },
   "source": [
    "### 9a. Plot results\n",
    "Plot pressure for soil column at the end of the simulation.\n",
    "- Wilting point h=-8000\n",
    "- Field capactiy h=-33kPa = -10.197 cmH2O"
   ]
  },
  {
   "cell_type": "code",
   "execution_count": null,
   "metadata": {},
   "outputs": [],
   "source": [
    "\n",
    "\n",
    "\n",
    "from scipy import interpolate\n",
    "\n",
    "lines = ml.plots.soil_properties(figsize=(6, 2.5))\n",
    "plt.close()\n",
    "x = lines[0].get_children()[0].get_data()[0]\n",
    "y = lines[0].get_children()[0].get_data()[1]\n",
    "#print('Field_capacitiy=',interpolate.interp1d(x, y)(-10.197))"
   ]
  },
  {
   "cell_type": "markdown",
   "metadata": {},
   "source": [
    "### 9b. Plot the drainage over time"
   ]
  },
  {
   "cell_type": "code",
   "execution_count": null,
   "metadata": {},
   "outputs": [],
   "source": [
    "\n",
    "\n",
    "axes = ml.plots.water_flow(\"Bottom Flux\", figsize=(6, 2.5))\n",
    "#plt.savefig(\"../../figures/water_flow.eps\", bbox_inches=\"tight\", dpi=300)"
   ]
  },
  {
   "cell_type": "markdown",
   "metadata": {},
   "source": [
    "### 9c. Plot the water content over time"
   ]
  },
  {
   "cell_type": "code",
   "execution_count": null,
   "metadata": {},
   "outputs": [],
   "source": [
    "df = ml.read_obs_node()\n",
    "fig, [ax0, ax1] = plt.subplots(2,1, figsize=(6,3), sharex=True, sharey=True)\n",
    "df[ml.obs_nodes[0]][\"theta\"].plot(ax=ax0, marker=\".\", c=\"k\", linestyle=\"\", markersize=3)\n",
    "ax0.set_title(\"Water content at -5 cm\")\n",
    "ax0.set_ylabel(r\"$\\theta$ [-]\")\n",
    "\n",
    "df[ml.obs_nodes[1]][\"theta\"].plot(ax=ax1, marker=\".\", c=\"k\", linestyle=\"\", markersize=3)\n",
    "ax1.set_title(\"Water content at -30 cm\")\n",
    "ax1.set_ylabel(r\"$\\theta$ [-]\")\n",
    "plt.tight_layout()\n",
    "ax1.set_xlabel(\"\")\n",
    "#ax1.set_xlim(0,730)\n",
    "#ax1.set_xticks([0,365,730])\n",
    "#ax1.set_xticklabels([\"Jan-07\", \"Jan-08\", \"Jan-09\"])\n",
    "#plt.savefig(\"../../figures/water_content.eps\", bbox_inches=\"tight\", dpi=300)"
   ]
  },
  {
   "cell_type": "code",
   "execution_count": null,
   "metadata": {},
   "outputs": [],
   "source": []
  },
  {
   "cell_type": "code",
   "execution_count": null,
   "metadata": {},
   "outputs": [],
   "source": [
    "df[ml.obs_nodes[0]].to_csv(\"../data/wc_5cm.csv\")\n",
    "df[ml.obs_nodes[1]].to_csv(\"../data/wc_30cm.csv\")"
   ]
  },
  {
   "cell_type": "code",
   "execution_count": null,
   "metadata": {},
   "outputs": [],
   "source": [
    "df[ml.obs_nodes[0]] \\\n",
    "    .assign(Date=lambda x: CD1.cosmos_data.index).set_index('Date')"
   ]
  },
  {
   "cell_type": "code",
   "execution_count": null,
   "metadata": {},
   "outputs": [],
   "source": [
    "CD1.cosmos_data = CD1.cosmos_data\\\n",
    "    .join(df[ml.obs_nodes[0]].assign(Date=lambda x: CD1.cosmos_data.index, theta=lambda x: x.theta*100).drop(columns=['h','Temp']).rename(columns={'theta':'hydrus_5cm'}).set_index('Date'))\\\n",
    "    .join(df[ml.obs_nodes[1]].assign(Date=lambda x: CD1.cosmos_data.index, theta=lambda x: x.theta*100).drop(columns=['h','Temp']).rename(columns={'theta':'hydrus_30cm'}).set_index('Date'))\n",
    "\n"
   ]
  },
  {
   "cell_type": "code",
   "execution_count": null,
   "metadata": {},
   "outputs": [],
   "source": [
    "CD1.cosmos_data.plot(title=site, fontsize=16, figsize=(9,6))\n",
    "plt.legend(fontsize = 16), plt.ylabel(r'$\\theta$ (%)',fontsize = 16), plt.xlabel('')\n",
    "plt.savefig('img/'+site+'.png')"
   ]
  },
  {
   "cell_type": "code",
   "execution_count": null,
   "metadata": {},
   "outputs": [],
   "source": [
    "CD1.atmo_data.assign(Date=lambda x: CD1.cosmos_data.index, PE=lambda x: x.rSoil , PET=lambda x: x.rRoot+x.rSoil ).set_index('Date')\\\n",
    "    .plot(y=['Prec','PE','PET'], fontsize=16, figsize=(9,6), title=site,ylabel='mm')\n",
    "plt.legend(fontsize = 16), plt.ylabel('mm',fontsize = 16), plt.xlabel('')\n"
   ]
  },
  {
   "cell_type": "markdown",
   "metadata": {},
   "source": [
    "### 9c. Update the soil profile plot with the pressure head"
   ]
  },
  {
   "cell_type": "code",
   "execution_count": null,
   "metadata": {},
   "outputs": [],
   "source": [
    "atm"
   ]
  },
  {
   "cell_type": "code",
   "execution_count": null,
   "metadata": {},
   "outputs": [],
   "source": [
    "head = ml.read_nod_inf(times=[0]).iloc[:, 2]\n",
    "ml.profile.loc[:, \"h\"] = head\n",
    "ml.plots.profile(color_by=\"mat\")\n"
   ]
  },
  {
   "cell_type": "code",
   "execution_count": null,
   "metadata": {},
   "outputs": [],
   "source": []
  }
 ],
 "metadata": {
  "kernelspec": {
   "display_name": "Python 3 (ipykernel)",
   "language": "python",
   "name": "python3"
  },
  "language_info": {
   "codemirror_mode": {
    "name": "ipython",
    "version": 3
   },
   "file_extension": ".py",
   "mimetype": "text/x-python",
   "name": "python",
   "nbconvert_exporter": "python",
   "pygments_lexer": "ipython3",
   "version": "3.11.6"
  }
 },
 "nbformat": 4,
 "nbformat_minor": 4
}
